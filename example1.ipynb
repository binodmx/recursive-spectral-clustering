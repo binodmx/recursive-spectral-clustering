{
 "cells": [
  {
   "cell_type": "code",
   "execution_count": 1,
   "metadata": {},
   "outputs": [
    {
     "name": "stdout",
     "output_type": "stream",
     "text": [
      "[0, 3, 1, 5, 2, 2, 5, 0, 3, 5, 4, 3, 1, 3, 0, 3, 4, 5, 0, 2, 2, 0, 4, 3, 4, 5, 4, 1, 5, 3, 1, 4, 1, 1, 1, 4, 2, 0, 5, 2, 2, 1, 2, 0, 3, 0, 1, 5, 2, 4]\n",
      "{0: 8, 3: 8, 1: 9, 5: 8, 2: 9, 4: 8}\n"
     ]
    }
   ],
   "source": [
    "from RecursiveSpectralClustering import RecursiveSpectralClustering\n",
    "import numpy as np\n",
    "\n",
    "A = np.random.rand(50, 50)\n",
    "A = (A + A.T) / 2\n",
    "np.fill_diagonal(A, 0)\n",
    "\n",
    "clustering = RecursiveSpectralClustering(n_clusters=6, affinity=\"precomputed\")\n",
    "clustering.fit(A)\n",
    "print(clustering.labels_)\n",
    "\n",
    "# Print the number of data points in each cluster\n",
    "count = {}\n",
    "for label in clustering.labels_:\n",
    "    if label not in count:\n",
    "        count[label] = 0\n",
    "    count[label] += 1\n",
    "print(count)"
   ]
  }
 ],
 "metadata": {
  "kernelspec": {
   "display_name": "Python 3",
   "language": "python",
   "name": "python3"
  },
  "language_info": {
   "codemirror_mode": {
    "name": "ipython",
    "version": 3
   },
   "file_extension": ".py",
   "mimetype": "text/x-python",
   "name": "python",
   "nbconvert_exporter": "python",
   "pygments_lexer": "ipython3",
   "version": "3.11.9"
  }
 },
 "nbformat": 4,
 "nbformat_minor": 2
}
